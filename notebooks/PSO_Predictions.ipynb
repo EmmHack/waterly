{
 "cells": [
  {
   "cell_type": "code",
   "execution_count": 1,
   "metadata": {
    "collapsed": false
   },
   "outputs": [],
   "source": [
    "import numpy as np, numpy.random\n",
    "from pyswarm import pso\n"
   ]
  },
  {
   "cell_type": "code",
   "execution_count": 2,
   "metadata": {
    "collapsed": false
   },
   "outputs": [],
   "source": [
    "probabilities = np.random.dirichlet(np.ones(250),size=1)[0]"
   ]
  },
  {
   "cell_type": "code",
   "execution_count": 57,
   "metadata": {
    "collapsed": false
   },
   "outputs": [],
   "source": [
    "rand = np.random.choice(np.arange(150, 400), p=probabilities)\n",
    "\n",
    "#average = np.random.uniform(150.0, 400.0)\n",
    "average = 200\n",
    "average_fopt = 0.0\n",
    "average_diff = 0.0\n",
    "n = 1"
   ]
  },
  {
   "cell_type": "code",
   "execution_count": 58,
   "metadata": {
    "collapsed": true
   },
   "outputs": [],
   "source": [
    "def evaluate(probabilities):\n",
    "    #print probabilities\n",
    "    global average\n",
    "    sum = probabilities.sum()\n",
    "    \n",
    "    probabilities =  probabilities / sum    # normalise to have sum 1\n",
    "    \n",
    "    #consumption = np.random.choice(np.arange(150, 400), p=probabilities)\n",
    "    \n",
    "    consumption = probabilities.argmax() + 150\n",
    "\n",
    "    #optimal_point = (average + 150) / 2\n",
    "    \n",
    "    #result = optimal_point * (1 - probabilities[consumption_index])\n",
    "    result = abs(consumption - optimal_point)\n",
    "    #result = consumption - optimal_point\n",
    "    \n",
    "    return (result, 10)\n",
    "\n",
    "    "
   ]
  },
  {
   "cell_type": "code",
   "execution_count": 59,
   "metadata": {
    "collapsed": false
   },
   "outputs": [
    {
     "ename": "ValueError",
     "evalue": "setting an array element with a sequence.",
     "output_type": "error",
     "traceback": [
      "\u001b[1;31m---------------------------------------------------------------------------\u001b[0m",
      "\u001b[1;31mValueError\u001b[0m                                Traceback (most recent call last)",
      "\u001b[1;32m<ipython-input-59-e0f9c5bdb7a1>\u001b[0m in \u001b[0;36m<module>\u001b[1;34m()\u001b[0m\n\u001b[0;32m      9\u001b[0m \u001b[1;32mfor\u001b[0m \u001b[0mi\u001b[0m \u001b[1;32min\u001b[0m \u001b[0mrange\u001b[0m\u001b[1;33m(\u001b[0m\u001b[1;36m150\u001b[0m\u001b[1;33m)\u001b[0m\u001b[1;33m:\u001b[0m\u001b[1;33m\u001b[0m\u001b[0m\n\u001b[0;32m     10\u001b[0m     \u001b[0mn\u001b[0m \u001b[1;33m=\u001b[0m \u001b[0mn\u001b[0m \u001b[1;33m+\u001b[0m \u001b[1;36m1\u001b[0m\u001b[1;33m\u001b[0m\u001b[0m\n\u001b[1;32m---> 11\u001b[1;33m     \u001b[0mxopt\u001b[0m\u001b[1;33m,\u001b[0m \u001b[0mfopt\u001b[0m \u001b[1;33m=\u001b[0m \u001b[0mpso\u001b[0m\u001b[1;33m(\u001b[0m\u001b[0mevaluate\u001b[0m\u001b[1;33m,\u001b[0m \u001b[0mlb\u001b[0m\u001b[1;33m,\u001b[0m \u001b[0mub\u001b[0m\u001b[1;33m,\u001b[0m \u001b[0mmaxiter\u001b[0m\u001b[1;33m=\u001b[0m\u001b[1;36m100\u001b[0m\u001b[1;33m,\u001b[0m \u001b[0mminstep\u001b[0m\u001b[1;33m=\u001b[0m\u001b[1;34m\"1-e8\"\u001b[0m\u001b[1;33m)\u001b[0m\u001b[1;33m\u001b[0m\u001b[0m\n\u001b[0m\u001b[0;32m     12\u001b[0m     \u001b[1;31m#print xopt, fopt\u001b[0m\u001b[1;33m\u001b[0m\u001b[1;33m\u001b[0m\u001b[0m\n\u001b[0;32m     13\u001b[0m     \u001b[0mconsumption\u001b[0m \u001b[1;33m=\u001b[0m \u001b[0mxopt\u001b[0m\u001b[1;33m.\u001b[0m\u001b[0margmax\u001b[0m\u001b[1;33m(\u001b[0m\u001b[1;33m)\u001b[0m \u001b[1;33m+\u001b[0m \u001b[1;36m150\u001b[0m\u001b[1;33m\u001b[0m\u001b[0m\n",
      "\u001b[1;32m/home/asive/anaconda2/envs/waterly/lib/python2.7/site-packages/pyswarm/pso.pyc\u001b[0m in \u001b[0;36mpso\u001b[1;34m(func, lb, ub, ieqcons, f_ieqcons, args, kwargs, swarmsize, omega, phip, phig, maxiter, minstep, minfunc, debug)\u001b[0m\n\u001b[0;32m    109\u001b[0m \u001b[1;33m\u001b[0m\u001b[0m\n\u001b[0;32m    110\u001b[0m         \u001b[1;31m# Calculate the objective's value at the current particle's\u001b[0m\u001b[1;33m\u001b[0m\u001b[1;33m\u001b[0m\u001b[0m\n\u001b[1;32m--> 111\u001b[1;33m         \u001b[0mfp\u001b[0m\u001b[1;33m[\u001b[0m\u001b[0mi\u001b[0m\u001b[1;33m]\u001b[0m \u001b[1;33m=\u001b[0m \u001b[0mobj\u001b[0m\u001b[1;33m(\u001b[0m\u001b[0mp\u001b[0m\u001b[1;33m[\u001b[0m\u001b[0mi\u001b[0m\u001b[1;33m,\u001b[0m \u001b[1;33m:\u001b[0m\u001b[1;33m]\u001b[0m\u001b[1;33m)\u001b[0m\u001b[1;33m\u001b[0m\u001b[0m\n\u001b[0m\u001b[0;32m    112\u001b[0m \u001b[1;33m\u001b[0m\u001b[0m\n\u001b[0;32m    113\u001b[0m         \u001b[1;31m# At the start, there may not be any feasible starting point, so just\u001b[0m\u001b[1;33m\u001b[0m\u001b[1;33m\u001b[0m\u001b[0m\n",
      "\u001b[1;31mValueError\u001b[0m: setting an array element with a sequence."
     ]
    }
   ],
   "source": [
    "lb = [0] * 250\n",
    "ub = [1] * 250\n",
    "global average\n",
    "global n\n",
    "\n",
    "#optimal_point = (average + 150) / 2.0\n",
    "optimal_point = average\n",
    "\n",
    "for i in range(150):\n",
    "    n = n + 1\n",
    "    xopt, fopt = pso(evaluate, lb, ub, maxiter=100, minstep=\"1-e8\")\n",
    "    #print xopt, fopt\n",
    "    consumption = xopt.argmax() + 150\n",
    "    diff = consumption - optimal_point\n",
    "    average_diff = (average_diff * (n - 1) + diff) / n\n",
    "    \n",
    "    print \"consumption: \", (consumption + average_diff), \", average: \", average, \", n: \", n, \\\n",
    "          \", optimal_point: \", optimal_point, \", fopt: \", fopt, \", diff: \", diff, \\\n",
    "          \"average_diff: \", average_diff\n",
    "\n",
    "    average = (average * (n - 1) + consumption) / n\n",
    "    average_fopt = (average_fopt * (n - 1) + fopt) / n\n",
    "    #average = (average * (n - 1) + consumption) / n\n",
    "   \n",
    "    \n",
    "    if n % 24 == 0:\n",
    "        #optimal_point =  optimal_point + (average_fopt / average_diff) + np.random.uniform(-1.0, 1.0)\n",
    "        #optimal_point =  optimal_point + np.random.uniform(-1.0, 1.0)\n",
    "        optimal_point =  optimal_point - average_diff * 2\n",
    "     \n",
    "    #print \"result: \", result, \", average: \", average, \", consumption: \", consumption"
   ]
  },
  {
   "cell_type": "code",
   "execution_count": null,
   "metadata": {
    "collapsed": true
   },
   "outputs": [],
   "source": []
  },
  {
   "cell_type": "code",
   "execution_count": null,
   "metadata": {
    "collapsed": true
   },
   "outputs": [],
   "source": []
  }
 ],
 "metadata": {
  "kernelspec": {
   "display_name": "Python [waterly]",
   "language": "python",
   "name": "Python [waterly]"
  },
  "language_info": {
   "codemirror_mode": {
    "name": "ipython",
    "version": 2
   },
   "file_extension": ".py",
   "mimetype": "text/x-python",
   "name": "python",
   "nbconvert_exporter": "python",
   "pygments_lexer": "ipython2",
   "version": "2.7.12"
  }
 },
 "nbformat": 4,
 "nbformat_minor": 0
}
